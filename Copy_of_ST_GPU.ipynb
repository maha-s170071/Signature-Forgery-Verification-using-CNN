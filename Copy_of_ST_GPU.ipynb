{
  "nbformat": 4,
  "nbformat_minor": 0,
  "metadata": {
    "colab": {
      "provenance": [],
      "mount_file_id": "1WZp6nbTuCVv7nAnfQ8Rd1OitolrCLUPG",
      "authorship_tag": "ABX9TyNHScoTaRrrgnL1GEU7J7Tv",
      "include_colab_link": true
    },
    "kernelspec": {
      "name": "python3",
      "display_name": "Python 3"
    },
    "language_info": {
      "name": "python"
    },
    "accelerator": "GPU",
    "gpuClass": "standard"
  },
  "cells": [
    {
      "cell_type": "markdown",
      "metadata": {
        "id": "view-in-github",
        "colab_type": "text"
      },
      "source": [
        "<a href=\"https://colab.research.google.com/github/maha-s170071/Signature-Forgery-Verification-using-CNN/blob/main/Copy_of_ST_GPU.ipynb\" target=\"_parent\"><img src=\"https://colab.research.google.com/assets/colab-badge.svg\" alt=\"Open In Colab\"/></a>"
      ]
    },
    {
      "cell_type": "code",
      "source": [
        "!nvidia-smi"
      ],
      "metadata": {
        "colab": {
          "base_uri": "https://localhost:8080/"
        },
        "id": "zUhtCBcFp2Hg",
        "outputId": "231ae675-891b-481c-b80d-7f0772794819"
      },
      "execution_count": null,
      "outputs": [
        {
          "output_type": "stream",
          "name": "stdout",
          "text": [
            "Fri Mar 31 06:47:26 2023       \n",
            "+-----------------------------------------------------------------------------+\n",
            "| NVIDIA-SMI 525.85.12    Driver Version: 525.85.12    CUDA Version: 12.0     |\n",
            "|-------------------------------+----------------------+----------------------+\n",
            "| GPU  Name        Persistence-M| Bus-Id        Disp.A | Volatile Uncorr. ECC |\n",
            "| Fan  Temp  Perf  Pwr:Usage/Cap|         Memory-Usage | GPU-Util  Compute M. |\n",
            "|                               |                      |               MIG M. |\n",
            "|===============================+======================+======================|\n",
            "|   0  Tesla T4            Off  | 00000000:00:04.0 Off |                    0 |\n",
            "| N/A   58C    P0    28W /  70W |    373MiB / 15360MiB |      0%      Default |\n",
            "|                               |                      |                  N/A |\n",
            "+-------------------------------+----------------------+----------------------+\n",
            "                                                                               \n",
            "+-----------------------------------------------------------------------------+\n",
            "| Processes:                                                                  |\n",
            "|  GPU   GI   CI        PID   Type   Process name                  GPU Memory |\n",
            "|        ID   ID                                                   Usage      |\n",
            "|=============================================================================|\n",
            "+-----------------------------------------------------------------------------+\n"
          ]
        }
      ]
    },
    {
      "cell_type": "code",
      "source": [
        "import tensorflow as tf\n",
        "tf.test.gpu_device_name()"
      ],
      "metadata": {
        "colab": {
          "base_uri": "https://localhost:8080/",
          "height": 36
        },
        "id": "pfPz0taPp4bw",
        "outputId": "45351f08-6fbc-49d6-d9be-beba9003ae93"
      },
      "execution_count": null,
      "outputs": [
        {
          "output_type": "execute_result",
          "data": {
            "text/plain": [
              "'/device:GPU:0'"
            ],
            "application/vnd.google.colaboratory.intrinsic+json": {
              "type": "string"
            }
          },
          "metadata": {},
          "execution_count": 12
        }
      ]
    },
    {
      "cell_type": "code",
      "source": [
        "g_path=\"/content/drive/MyDrive/Datasets/signature_dataset/forgeries\"\n"
      ],
      "metadata": {
        "id": "JPiuv83WRG9K"
      },
      "execution_count": null,
      "outputs": []
    },
    {
      "cell_type": "code",
      "execution_count": null,
      "metadata": {
        "id": "KFPGcO2Rowxq"
      },
      "outputs": [],
      "source": [
        "#!/usr/bin/env python\n",
        "# coding: utf-8\n",
        "\n",
        "# In[30]:\n",
        "\n",
        "\n",
        "import numpy as np\n",
        "import os\n",
        "import cv2\n",
        "import matplotlib.pyplot as plt\n",
        "from tensorflow.keras.utils import to_categorical\n",
        "\n",
        "root_path=\"/content/drive/MyDrive/Datasets/signature_dataset/\"\n",
        "\n",
        "forg_list=[]\n",
        "gen_list=[]\n",
        "\n",
        "[forg,gen] = os.listdir(root_path)   \n",
        "for img in os.listdir(root_path+forg):\n",
        "    forg_list.append(img)\n",
        "for img in os.listdir(root_path+gen):\n",
        "    gen_list.append(img)\n",
        "\n",
        "\n",
        "# In[31]:\n",
        "\n",
        "\n",
        "# img=cv2.imread(\"C:/Users/2662a/Desktop/laya_dataset/genuines/NFI-00101001.png\")\n",
        "# plt.imshow(img)\n",
        "\n",
        "\n",
        "# In[32]:\n",
        "\n",
        "\n",
        "# img=cv2.imread(\"C:/Users/2662a/Desktop/laya_dataset/forgeries/NFI-00301018.png\")\n",
        "# plt.imshow(img)\n",
        "\n",
        "\n",
        "# In[33]:\n",
        "\n",
        "\n",
        "data=[]\n",
        "lables=[]\n",
        "\n",
        "\n",
        "# In[34]:\n",
        "\n",
        "\n",
        "for img_name in forg_list:\n",
        "    image=cv2.imread(root_path+forg+'/'+img_name)\n",
        "    image = cv2.cvtColor(image, cv2.COLOR_BGR2RGB)\n",
        "    image = cv2.resize(image, (224, 224))\n",
        "    data.append(image)\n",
        "    lables.append(1)\n",
        "\n",
        "\n",
        "# In[35]:\n",
        "\n",
        "\n",
        "for img_name in gen_list:\n",
        "    image=cv2.imread(root_path+gen+'/'+img_name)\n",
        "    image = cv2.cvtColor(image, cv2.COLOR_BGR2RGB)\n",
        "    image = cv2.resize(image, (224, 224))\n",
        "    data.append(image)\n",
        "    lables.append(0)\n",
        "\n",
        "\n",
        "# In[36]:\n",
        "\n",
        "\n",
        "data=np.array(data)\n",
        "lables=np.array(lables)\n",
        "\n",
        "\n",
        "# In[37]:\n",
        "\n",
        "\n",
        "data=data/255.0\n",
        "\n",
        "\n",
        "# In[38]:\n",
        "\n",
        "\n",
        "from sklearn.model_selection import train_test_split\n",
        "\n",
        "\n",
        "# In[39]:\n",
        "\n",
        "\n",
        "d_train,d_test,y_train,y_test=train_test_split(data,lables,test_size=0.2,shuffle=True)\n",
        "\n",
        "\n",
        "# In[40]:\n",
        "\n",
        "\n",
        "y_train=y_train.reshape(y_train.shape[0],1)\n",
        "y_test=y_test.reshape(y_test.shape[0],1)\n",
        "\n",
        "\n",
        "# In[41]:\n",
        "\n",
        "\n",
        "y_train=to_categorical(y_train,num_classes=2)\n",
        "y_test=to_categorical(y_test,num_classes=2)\n",
        "\n",
        "\n",
        "# In[42]:\n",
        "\n",
        "\n",
        "# Model\n",
        "from keras.models import Sequential\n",
        "from keras.layers import Conv2D,MaxPooling2D,Flatten,Dense,Dropout\n",
        "from sklearn.metrics import confusion_matrix\n",
        "from tensorflow.keras.optimizers import Adam\n",
        "\n",
        "\n",
        "# In[43]:\n"
      ]
    },
    {
      "cell_type": "code",
      "source": [
        "\n",
        "\n",
        "cnn= Sequential()\n",
        "\n",
        "cnn.add(Conv2D(64,(3,3),input_shape=(224,224,3),activation='relu'))\n",
        "cnn.add(MaxPooling2D(3,3))\n",
        "cnn.add(Conv2D(32,(3,3),activation='relu'))\n",
        "cnn.add(MaxPooling2D(2,2))\n",
        "cnn.add(Flatten())\n",
        "cnn.add(Dense(128,activation = 'relu'))\n",
        "cnn.add(Dropout(rate=0.3))\n",
        "cnn.add(Dense(2,activation = 'softmax'))\n",
        "cnn.compile(optimizer=Adam(lr=0.001),loss=\"binary_crossentropy\",metrics=[\"accuracy\"])\n",
        "cnn.summary()\n",
        "\n",
        "\n",
        "# In[44]:\n",
        "\n",
        "\n",
        "model= cnn.fit(d_train,y_train,epochs=10,validation_split=.05)\n",
        "\n",
        "\n",
        "# In[46]:\n",
        "\n",
        "\n",
        "\n"
      ],
      "metadata": {
        "colab": {
          "base_uri": "https://localhost:8080/"
        },
        "id": "Y6r3MxO4pwQ5",
        "outputId": "5426fdf7-d01e-4ce9-b108-b58e236fd26c"
      },
      "execution_count": null,
      "outputs": [
        {
          "output_type": "stream",
          "name": "stderr",
          "text": [
            "WARNING:absl:`lr` is deprecated in Keras optimizer, please use `learning_rate` or use the legacy optimizer, e.g.,tf.keras.optimizers.legacy.Adam.\n"
          ]
        },
        {
          "output_type": "stream",
          "name": "stdout",
          "text": [
            "Model: \"sequential\"\n",
            "_________________________________________________________________\n",
            " Layer (type)                Output Shape              Param #   \n",
            "=================================================================\n",
            " conv2d (Conv2D)             (None, 222, 222, 64)      1792      \n",
            "                                                                 \n",
            " max_pooling2d (MaxPooling2D  (None, 74, 74, 64)       0         \n",
            " )                                                               \n",
            "                                                                 \n",
            " conv2d_1 (Conv2D)           (None, 72, 72, 32)        18464     \n",
            "                                                                 \n",
            " max_pooling2d_1 (MaxPooling  (None, 36, 36, 32)       0         \n",
            " 2D)                                                             \n",
            "                                                                 \n",
            " flatten (Flatten)           (None, 41472)             0         \n",
            "                                                                 \n",
            " dense (Dense)               (None, 128)               5308544   \n",
            "                                                                 \n",
            " dropout (Dropout)           (None, 128)               0         \n",
            "                                                                 \n",
            " dense_1 (Dense)             (None, 2)                 258       \n",
            "                                                                 \n",
            "=================================================================\n",
            "Total params: 5,329,058\n",
            "Trainable params: 5,329,058\n",
            "Non-trainable params: 0\n",
            "_________________________________________________________________\n",
            "Epoch 1/10\n",
            "38/38 [==============================] - 16s 75ms/step - loss: 0.7052 - accuracy: 0.6066 - val_loss: 0.5995 - val_accuracy: 0.7143\n",
            "Epoch 2/10\n",
            "38/38 [==============================] - 2s 45ms/step - loss: 0.5059 - accuracy: 0.7540 - val_loss: 0.5337 - val_accuracy: 0.7143\n",
            "Epoch 3/10\n",
            "38/38 [==============================] - 2s 43ms/step - loss: 0.3575 - accuracy: 0.8509 - val_loss: 0.4522 - val_accuracy: 0.7778\n",
            "Epoch 4/10\n",
            "38/38 [==============================] - 2s 42ms/step - loss: 0.2693 - accuracy: 0.8930 - val_loss: 0.4955 - val_accuracy: 0.7619\n",
            "Epoch 5/10\n",
            "38/38 [==============================] - 2s 42ms/step - loss: 0.1866 - accuracy: 0.9318 - val_loss: 0.4839 - val_accuracy: 0.7778\n",
            "Epoch 6/10\n",
            "38/38 [==============================] - 2s 42ms/step - loss: 0.1074 - accuracy: 0.9663 - val_loss: 0.7045 - val_accuracy: 0.7143\n",
            "Epoch 7/10\n",
            "38/38 [==============================] - 2s 43ms/step - loss: 0.0803 - accuracy: 0.9781 - val_loss: 0.6865 - val_accuracy: 0.7460\n",
            "Epoch 8/10\n",
            "38/38 [==============================] - 2s 43ms/step - loss: 0.1151 - accuracy: 0.9688 - val_loss: 0.5897 - val_accuracy: 0.7937\n",
            "Epoch 9/10\n",
            "38/38 [==============================] - 2s 47ms/step - loss: 0.0337 - accuracy: 0.9933 - val_loss: 0.7556 - val_accuracy: 0.7619\n",
            "Epoch 10/10\n",
            "38/38 [==============================] - 2s 46ms/step - loss: 0.0203 - accuracy: 0.9983 - val_loss: 0.8784 - val_accuracy: 0.7778\n"
          ]
        }
      ]
    },
    {
      "cell_type": "code",
      "source": [
        "acc = model.history['accuracy']\n",
        "val_acc = model.history['val_accuracy']\n",
        "loss = model.history['loss']\n",
        "val_loss = model.history['val_loss']\n",
        " \n",
        "epochs = range(len(acc))\n",
        " \n",
        "plt.plot(epochs, acc, 'b', label='Training acc')\n",
        "plt.plot(epochs, val_acc, 'r', label='Validation acc')\n",
        "plt.title('Training and validation accuracy')\n",
        "plt.legend()\n",
        "\n",
        "plt.plot(epochs, loss, 'y', label='Training loss')\n",
        "plt.plot(epochs, val_loss, 'g', label='Validation loss')\n",
        "plt.title('Training and validation loss')\n",
        "plt.legend()\n",
        "\n",
        "plt.show()\n",
        "plt.figure()\n",
        "\n",
        "\n",
        "# In[47]:\n",
        "\n",
        "\n",
        "y_pred = cnn.predict(d_test)\n",
        "\n",
        "\n",
        "# In[62]:\n",
        "\n",
        "\n",
        "from sklearn.metrics import accuracy_score\n",
        "\n",
        "\n",
        "# In[60]:\n",
        "\n",
        "\n",
        "y_pred=to_categorical(y_pred.argmax(axis=1),num_classes=2)\n",
        "\n",
        "\n",
        "# In[63]:\n",
        "\n",
        "\n",
        "accuracy_score(y_pred, y_test)\n",
        "\n",
        "\n",
        "# In[ ]:\n",
        "\n",
        "\n"
      ],
      "metadata": {
        "colab": {
          "base_uri": "https://localhost:8080/",
          "height": 504
        },
        "id": "tyv1w72ErCDx",
        "outputId": "9a5220b2-ad85-4b22-e593-bcd2fb8494b3"
      },
      "execution_count": null,
      "outputs": [
        {
          "output_type": "display_data",
          "data": {
            "text/plain": [
              "<Figure size 640x480 with 1 Axes>"
            ],
            "image/png": "[encoded data removed]"
          },
          "metadata": {}
        },
        {
          "output_type": "stream",
          "name": "stdout",
          "text": [
            "10/10 [==============================] - 1s 47ms/step\n"
          ]
        },
        {
          "output_type": "execute_result",
          "data": {
            "text/plain": [
              "0.8498402555910544"
            ]
          },
          "metadata": {},
          "execution_count": 16
        },
        {
          "output_type": "display_data",
          "data": {
            "text/plain": [
              "<Figure size 640x480 with 0 Axes>"
            ]
          },
          "metadata": {}
        }
      ]
    },
    {
      "cell_type": "code",
      "source": [
        "from keras.models import save_model\n",
        "save_model(cnn, \"/content/drive/MyDrive/Model/sv_model.h5\")"
      ],
      "metadata": {
        "id": "sXaNAvgAqdqb"
      },
      "execution_count": null,
      "outputs": []
    },
    {
      "cell_type": "markdown",
      "source": [
        "# **Model** **testing**"
      ],
      "metadata": {
        "id": "kIIlVei-Puvh"
      }
    },
    {
      "cell_type": "code",
      "source": [
        "#testing the model"
      ],
      "metadata": {
        "id": "8XNLhISKu4R1"
      },
      "execution_count": null,
      "outputs": []
    },
    {
      "cell_type": "code",
      "source": [
        "from keras.models import load_model\n",
        "cnn_model=load_model(\"/content/drive/MyDrive/Model/sv_model.h5\")"
      ],
      "metadata": {
        "id": "Exl5Fk-Fu5Aw"
      },
      "execution_count": null,
      "outputs": []
    },
    {
      "cell_type": "code",
      "source": [
        "print(d_train.shape)\n",
        "print(y_train.shape)"
      ],
      "metadata": {
        "colab": {
          "base_uri": "https://localhost:8080/",
          "height": 182
        },
        "id": "nS8OP9tAvlve",
        "outputId": "55a96bd3-0961-4b03-d4b6-c078b64fcadf"
      },
      "execution_count": null,
      "outputs": [
        {
          "output_type": "error",
          "ename": "NameError",
          "evalue": "ignored",
          "traceback": [
            "\u001b[0;31m---------------------------------------------------------------------------\u001b[0m",
            "\u001b[0;31mNameError\u001b[0m                                 Traceback (most recent call last)",
            "\u001b[0;32m<ipython-input-31-78cfb123627b>\u001b[0m in \u001b[0;36m<cell line: 1>\u001b[0;34m()\u001b[0m\n\u001b[0;32m----> 1\u001b[0;31m \u001b[0mprint\u001b[0m\u001b[0;34m(\u001b[0m\u001b[0md_train\u001b[0m\u001b[0;34m.\u001b[0m\u001b[0mshape\u001b[0m\u001b[0;34m)\u001b[0m\u001b[0;34m\u001b[0m\u001b[0;34m\u001b[0m\u001b[0m\n\u001b[0m\u001b[1;32m      2\u001b[0m \u001b[0mprint\u001b[0m\u001b[0;34m(\u001b[0m\u001b[0my_train\u001b[0m\u001b[0;34m.\u001b[0m\u001b[0mshape\u001b[0m\u001b[0;34m)\u001b[0m\u001b[0;34m\u001b[0m\u001b[0;34m\u001b[0m\u001b[0m\n",
            "\u001b[0;31mNameError\u001b[0m: name 'd_train' is not defined"
          ]
        }
      ]
    },
    {
      "cell_type": "code",
      "source": [
        "import os\n",
        "import cv2\n",
        "import numpy as np\n",
        "ls=[]\n",
        "pr=\"/content/drive/MyDrive/Datasets/sig_person_face/\"\n",
        "for img in os.listdir(pr):\n",
        "  sample_image=cv2.imread(pr+img)\n",
        "  sample_image= cv2.cvtColor(sample_image, cv2.COLOR_BGR2RGB)\n",
        "  sample_image = cv2.resize(sample_image, (224, 224))\n",
        "  ls.append(sample_image)"
      ],
      "metadata": {
        "id": "SQhMEk0twVT7"
      },
      "execution_count": null,
      "outputs": []
    },
    {
      "cell_type": "code",
      "source": [
        "y_true=np.array([0,0,0,0,0,1,1,1,1,1])"
      ],
      "metadata": {
        "id": "bBLzcMzr6iC_"
      },
      "execution_count": null,
      "outputs": []
    },
    {
      "cell_type": "code",
      "source": [
        "ls=np.array(ls)"
      ],
      "metadata": {
        "id": "A6Ux2m1YxQKL"
      },
      "execution_count": null,
      "outputs": []
    },
    {
      "cell_type": "code",
      "source": [
        "ls.shape"
      ],
      "metadata": {
        "colab": {
          "base_uri": "https://localhost:8080/"
        },
        "id": "MquWwDRhx41R",
        "outputId": "81621569-e68f-42b3-8035-9d266a392562"
      },
      "execution_count": null,
      "outputs": [
        {
          "output_type": "execute_result",
          "data": {
            "text/plain": [
              "(10, 224, 224, 3)"
            ]
          },
          "metadata": {},
          "execution_count": 12
        }
      ]
    },
    {
      "cell_type": "code",
      "source": [
        "sample_prob=cnn_model.predict(ls)"
      ],
      "metadata": {
        "colab": {
          "base_uri": "https://localhost:8080/",
          "height": 165
        },
        "id": "7rGQaI9AwMcz",
        "outputId": "5eae0ffe-1ab3-4f0b-d833-f0f83f0423e0"
      },
      "execution_count": null,
      "outputs": [
        {
          "output_type": "error",
          "ename": "NameError",
          "evalue": "ignored",
          "traceback": [
            "\u001b[0;31m---------------------------------------------------------------------------\u001b[0m",
            "\u001b[0;31mNameError\u001b[0m                                 Traceback (most recent call last)",
            "\u001b[0;32m<ipython-input-4-840a699e488e>\u001b[0m in \u001b[0;36m<cell line: 1>\u001b[0;34m()\u001b[0m\n\u001b[0;32m----> 1\u001b[0;31m \u001b[0msample_prob\u001b[0m\u001b[0;34m=\u001b[0m\u001b[0mcnn_model\u001b[0m\u001b[0;34m.\u001b[0m\u001b[0mpredict\u001b[0m\u001b[0;34m(\u001b[0m\u001b[0mls\u001b[0m\u001b[0;34m)\u001b[0m\u001b[0;34m\u001b[0m\u001b[0;34m\u001b[0m\u001b[0m\n\u001b[0m",
            "\u001b[0;31mNameError\u001b[0m: name 'cnn_model' is not defined"
          ]
        }
      ]
    },
    {
      "cell_type": "code",
      "source": [
        "sample_pred=np.argmax(sample_prob,axis=1)"
      ],
      "metadata": {
        "id": "PVy7N0IQyDfM"
      },
      "execution_count": null,
      "outputs": []
    },
    {
      "cell_type": "code",
      "source": [
        "sample_pred"
      ],
      "metadata": {
        "colab": {
          "base_uri": "https://localhost:8080/",
          "height": 165
        },
        "id": "pP1FGwLBzQvv",
        "outputId": "1844a1cc-3f13-4d03-f0f7-98f9dc40f680"
      },
      "execution_count": null,
      "outputs": [
        {
          "output_type": "error",
          "ename": "NameError",
          "evalue": "ignored",
          "traceback": [
            "\u001b[0;31m---------------------------------------------------------------------------\u001b[0m",
            "\u001b[0;31mNameError\u001b[0m                                 Traceback (most recent call last)",
            "\u001b[0;32m<ipython-input-5-1f3c8b44e007>\u001b[0m in \u001b[0;36m<cell line: 1>\u001b[0;34m()\u001b[0m\n\u001b[0;32m----> 1\u001b[0;31m \u001b[0msample_pred\u001b[0m\u001b[0;34m\u001b[0m\u001b[0;34m\u001b[0m\u001b[0m\n\u001b[0m",
            "\u001b[0;31mNameError\u001b[0m: name 'sample_pred' is not defined"
          ]
        }
      ]
    },
    {
      "cell_type": "code",
      "source": [
        "# import pandas as pd\n",
        "# data = {\n",
        "#   \"person_id\": [\"NFI-00101001\",\"NFI-00202002\",\"NFI-00301002\",\"NFI-00301003\",\n",
        "#                 'NFI-00301018','NFI-00301035','NFI-00301046','NFI-00302002',\n",
        "#                 'NFI-00401004','NF1-00608006'],\n",
        "#   \"y_true\": [0,0,0,0,0,1,1,1,1,1],\n",
        "#   \"sample_pred\":[0,0,0,0,0,1,1,1,1,1]\n",
        "# }"
      ],
      "metadata": {
        "id": "UhBRd19j5Wjn"
      },
      "execution_count": null,
      "outputs": []
    },
    {
      "cell_type": "code",
      "source": [
        "# da=pd.DataFrame(data)"
      ],
      "metadata": {
        "id": "coERJwRv9jU1"
      },
      "execution_count": null,
      "outputs": []
    },
    {
      "cell_type": "code",
      "source": [
        "import matplotlib.pyplot as plt\n",
        "person_id=os.listdir(\"/content/drive/MyDrive/Datasets/sig_person_face/\")\n",
        "gen_path=\"/content/drive/MyDrive/Datasets/person_face/\"\n",
        "\n",
        "genuine_imgs=[]\n",
        "g_img=[]\n",
        "for img in person_id:\n",
        "  if img in os.listdir(gen_path):\n",
        "    genuine_imgs.append(gen_path+img)\n",
        "    g_img.append(img)\n",
        "\n",
        "for i in range(len(genuine_imgs)):\n",
        "  plt.subplot(len(genuine_imgs),1,i+1)\n",
        "  img=cv2.imread(genuine_imgs[i])\n",
        "  plt.imshow(img)\n",
        "  print(g_img[i],'genuine')"
      ],
      "metadata": {
        "colab": {
          "base_uri": "https://localhost:8080/",
          "height": 522
        },
        "id": "StQ6yrWN92v8",
        "outputId": "85f3e84a-1ba5-4ac3-a869-5c6ba8297c56"
      },
      "execution_count": null,
      "outputs": [
        {
          "output_type": "stream",
          "name": "stdout",
          "text": [
            "NFI-00202002.png genuine\n",
            "NFI-00301003.png genuine\n",
            "NFI-00401004.png genuine\n",
            "NFI-00101001.png genuine\n",
            "NFI-00608006.png genuine\n"
          ]
        },
        {
          "output_type": "display_data",
          "data": {
            "text/plain": [
              "<Figure size 640x480 with 5 Axes>"
            ],
            "image/png": "[encoded data removed]"
          },
          "metadata": {}
        }
      ]
    },
    {
      "cell_type": "code",
      "source": [
        "list1=[]\n",
        "s_image=cv2.imread(\"/content/drive/MyDrive/Datasets/sig_person_face/NFI-00301046.png\")\n",
        "s_image= cv2.cvtColor(s_image, cv2.COLOR_BGR2RGB)\n",
        "s_image = cv2.resize(s_image, (224, 224))\n",
        "list1.append(s_image)\n",
        "list1=np.array(list1)\n",
        "s_prob=cnn_model.predict(list1)\n",
        "s_pred=np.argmax(s_prob,axis=1)\n",
        "if (s_pred==[0]):\n",
        "  print('genuine')\n",
        "  gen_face=cv2.imread(\"/content/drive/MyDrive/Datasets/person_face/NFI-00301046.png\")\n",
        "  plt.imshow(gen_face)\n",
        "else:\n",
        "  print(\"forgerie\")"
      ],
      "metadata": {
        "id": "aUOLDa40RD3P",
        "colab": {
          "base_uri": "https://localhost:8080/"
        },
        "outputId": "5c42deed-e7bc-4418-837e-775e6b0ec893"
      },
      "execution_count": null,
      "outputs": [
        {
          "output_type": "stream",
          "name": "stdout",
          "text": [
            "1/1 [==============================] - 0s 21ms/step\n",
            "forgerie\n"
          ]
        }
      ]
    }
  ]
}